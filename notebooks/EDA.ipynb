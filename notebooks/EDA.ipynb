{
 "cells": [
  {
   "cell_type": "code",
   "execution_count": null,
   "metadata": {},
   "outputs": [],
   "source": [
    "import pandas as pd\n",
    "import matplotlib.pyplot as plt\n",
    "import seaborn as sns\n",
    "\n",
    "def load_data(file_path):\n",
    "    \"\"\"Loads the dataset for EDA.\"\"\"\n",
    "    return pd.read_csv(file_path)\n",
    "\n",
    "def plot_distributions(df):\n",
    "    \"\"\"Plots distributions of key numerical features.\"\"\"\n",
    "    numerical_cols = df.select_dtypes(include=['float64', 'int64']).columns.tolist()\n",
    "    df[numerical_cols].hist(figsize=(12, 10), bins=30)\n",
    "    plt.show()\n",
    "\n",
    "def correlation_matrix(df):\n",
    "    \"\"\"Plots a correlation heatmap.\"\"\"\n",
    "    plt.figure(figsize=(12, 8))\n",
    "    sns.heatmap(df.corr(), annot=True, cmap='coolwarm', fmt='.2f')\n",
    "    plt.show()\n",
    "\n",
    "if __name__ == \"__main__\":\n",
    "    file_path = \"../data/marine_insurance_dataset.csv\"\n",
    "    df = load_data(file_path)\n",
    "    plot_distributions(df)\n",
    "    correlation_matrix(df)\n"
   ]
  }
 ],
 "metadata": {
  "kernelspec": {
   "display_name": "venv",
   "language": "python",
   "name": "python3"
  },
  "language_info": {
   "name": "python",
   "version": "3.12.6"
  },
  "orig_nbformat": 4,
  "vscode": {
   "interpreter": {
    "hash": "66a3c97be582fbae5bfba0b9f60f2e3af05bc4d680cdfe699926c8865456e34b"
   }
  }
 },
 "nbformat": 4,
 "nbformat_minor": 2
}
