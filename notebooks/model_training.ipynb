{
 "cells": [
  {
   "cell_type": "code",
   "execution_count": null,
   "metadata": {},
   "outputs": [],
   "source": [
    "import pandas as pd\n",
    "from sklearn.model_selection import train_test_split\n",
    "from sklearn.ensemble import RandomForestRegressor\n",
    "from sklearn.metrics import mean_absolute_error, mean_squared_error\n",
    "import joblib\n",
    "\n",
    "def load_data(file_path):\n",
    "    \"\"\"Loads the processed dataset.\"\"\"\n",
    "    return pd.read_csv(file_path)\n",
    "\n",
    "def split_data(df):\n",
    "    \"\"\"Splits the dataset into training and testing sets.\"\"\"\n",
    "    X = df.drop(columns=['insurance_premium_pred'])\n",
    "    y = df['insurance_premium_pred']\n",
    "    return train_test_split(X, y, test_size=0.2, random_state=42)\n",
    "\n",
    "def train_model(X_train, y_train):\n",
    "    \"\"\"Trains a Random Forest Regressor model.\"\"\"\n",
    "    model = RandomForestRegressor(n_estimators=100, random_state=42)\n",
    "    model.fit(X_train, y_train)\n",
    "    return model\n",
    "\n",
    "def evaluate_model(model, X_test, y_test):\n",
    "    \"\"\"Evaluates the trained model.\"\"\"\n",
    "    y_pred = model.predict(X_test)\n",
    "    mae = mean_absolute_error(y_test, y_pred)\n",
    "    mse = mean_squared_error(y_test, y_pred)\n",
    "    print(f\"Mean Absolute Error: {mae}\")\n",
    "    print(f\"Mean Squared Error: {mse}\")\n",
    "    return mae, mse\n",
    "\n",
    "def save_model(model, file_path):\n",
    "    \"\"\"Saves the trained model.\"\"\"\n",
    "    joblib.dump(model, file_path)\n",
    "\n",
    "if __name__ == \"__main__\":\n",
    "    file_path = \"../data/processed_data.csv\"\n",
    "    df = load_data(file_path)\n",
    "    X_train, X_test, y_train, y_test = split_data(df)\n",
    "    model = train_model(X_train, y_train)\n",
    "    evaluate_model(model, X_test, y_test)\n",
    "    save_model(model, \"../models/insurance_model.pkl\")\n",
    "    print(\"Model training completed and saved.\")\n"
   ]
  }
 ],
 "metadata": {
  "kernelspec": {
   "display_name": "venv",
   "language": "python",
   "name": "python3"
  },
  "language_info": {
   "name": "python",
   "version": "3.12.6"
  },
  "orig_nbformat": 4,
  "vscode": {
   "interpreter": {
    "hash": "66a3c97be582fbae5bfba0b9f60f2e3af05bc4d680cdfe699926c8865456e34b"
   }
  }
 },
 "nbformat": 4,
 "nbformat_minor": 2
}
